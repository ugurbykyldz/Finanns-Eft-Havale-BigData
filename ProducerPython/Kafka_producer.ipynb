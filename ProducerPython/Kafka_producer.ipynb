{
 "cells": [
  {
   "cell_type": "code",
   "execution_count": 1,
   "metadata": {},
   "outputs": [],
   "source": [
    "from kafka import KafkaProducer\n",
    "import json\n",
    "import time\n",
    "import DataGenerator\n"
   ]
  },
  {
   "cell_type": "code",
   "execution_count": 2,
   "metadata": {},
   "outputs": [],
   "source": [
    "bootstrap_servers = [\"188.166.148.13:9092\"]"
   ]
  },
  {
   "cell_type": "code",
   "execution_count": 3,
   "metadata": {},
   "outputs": [],
   "source": [
    "topic = \"eftHavale\""
   ]
  },
  {
   "cell_type": "code",
   "execution_count": 4,
   "metadata": {},
   "outputs": [],
   "source": [
    "producer = KafkaProducer(bootstrap_servers = bootstrap_servers,\n",
    "                        value_serializer= lambda x:\n",
    "                        json.dumps(x).encode('utf-8'))"
   ]
  },
  {
   "cell_type": "code",
   "execution_count": 5,
   "metadata": {},
   "outputs": [],
   "source": [
    "data = DataGenerator.DataGenerator()"
   ]
  },
  {
   "cell_type": "code",
   "execution_count": 6,
   "metadata": {
    "scrolled": true
   },
   "outputs": [
    {
     "data": {
      "text/plain": [
       "{'pid': 10001,\n",
       " 'pytpe': 'E',\n",
       " 'account': {'oid': 410874, 'name': 'ÇAĞRI TEKİN', 'iban': 'TR1260891694529'},\n",
       " 'info': {'name': 'AYŞEGÜL EKİCİ', 'iban': 'TR1718136654137'},\n",
       " 'balance': 700,\n",
       " 'btype': 'EURO',\n",
       " 'device': 'Mobile aplication',\n",
       " 'city': 'Çanakkale',\n",
       " 'bank': 'Happy Bank'}"
      ]
     },
     "execution_count": 6,
     "metadata": {},
     "output_type": "execute_result"
    }
   ],
   "source": [
    "data.generatorDATA()"
   ]
  },
  {
   "cell_type": "code",
   "execution_count": 8,
   "metadata": {},
   "outputs": [],
   "source": [
    "count = 0\n",
    "while True:\n",
    "    producer.send(topic = topic, value = data.generatorDATA())\n",
    "    \n",
    "    #time.sleep(0.1)\n",
    "\n",
    "    if count == 20000:\n",
    "        break\n",
    "        \n",
    "    count += 1    "
   ]
  },
  {
   "cell_type": "code",
   "execution_count": null,
   "metadata": {},
   "outputs": [],
   "source": []
  }
 ],
 "metadata": {
  "kernelspec": {
   "display_name": "Python 3",
   "language": "python",
   "name": "python3"
  },
  "language_info": {
   "codemirror_mode": {
    "name": "ipython",
    "version": 3
   },
   "file_extension": ".py",
   "mimetype": "text/x-python",
   "name": "python",
   "nbconvert_exporter": "python",
   "pygments_lexer": "ipython3",
   "version": "3.8.5"
  }
 },
 "nbformat": 4,
 "nbformat_minor": 4
}
